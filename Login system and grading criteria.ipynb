{
 "cells": [
  {
   "cell_type": "markdown",
   "id": "b1036ebe-f07e-4582-a8eb-3dd974ebd56e",
   "metadata": {},
   "source": [
    "# Determine Grading Criteria"
   ]
  },
  {
   "cell_type": "code",
   "execution_count": 2,
   "id": "febe8ae0-14af-4226-8741-ae831e598a6f",
   "metadata": {},
   "outputs": [
    {
     "name": "stdin",
     "output_type": "stream",
     "text": [
      "Enter your marks  78\n"
     ]
    },
    {
     "name": "stdout",
     "output_type": "stream",
     "text": [
      "Grade B\n"
     ]
    }
   ],
   "source": [
    "marks = int(input(\"Enter your marks \"))   #Ask the user to enter marks\n",
    "if marks >= 85:\n",
    "    print(\"Grade A\")\n",
    "elif 75<= marks < 85:\n",
    "    print(\"Grade B\")\n",
    "elif 65<= marks <75:\n",
    "    print(\"Grade C\")\n",
    "elif 50<= marks <65:\n",
    "    print(\"Grade D\")\n",
    "else:\n",
    "    print(\"Grade F\")"
   ]
  },
  {
   "cell_type": "markdown",
   "id": "dd08523a-a06b-4f64-b8be-91d28769b989",
   "metadata": {},
   "source": [
    "# Login System"
   ]
  },
  {
   "cell_type": "code",
   "execution_count": 7,
   "id": "95b657ad-fc37-4555-9834-0d216599688f",
   "metadata": {},
   "outputs": [
    {
     "name": "stdin",
     "output_type": "stream",
     "text": [
      "Enter your name:  Amina\n",
      "Enter your mail amina14@gmail.com\n",
      "Enter your password pdkeffj\n"
     ]
    },
    {
     "name": "stdout",
     "output_type": "stream",
     "text": [
      "Sorry, You have entered wrong data. You cannot perform actions.\n"
     ]
    }
   ],
   "source": [
    "#Pre-defined user data (name, email, password)\n",
    "pre_def_name = \"Amina\"\n",
    "pre_def_email =\"amina14@gmail.com\"\n",
    "pre_def_pass = \"Anna675\"\n",
    "#Ask user to enter his name, email and password\n",
    "user_name = input(\"Enter your name: \")\n",
    "user_email = input(\"Enter your mail\")\n",
    "user_pass = input(\"Enter your password\")\n",
    "\n",
    "#Condition is applied to match the credentials of the user with predefined credentials\n",
    "if user_name == pre_def_name and user_pass == pre_def_email and pre_def_pass:\n",
    "    print(\"Welcome! You are allowed to perform actions.\")\n",
    "else:\n",
    "    print(\"Sorry, You have entered wrong data. You cannot perform actions.\")"
   ]
  },
  {
   "cell_type": "code",
   "execution_count": 10,
   "id": "52a3ae7a-2455-4833-ba28-e7f77d3b4db4",
   "metadata": {},
   "outputs": [
    {
     "name": "stdin",
     "output_type": "stream",
     "text": [
      "Enter a number:  49\n"
     ]
    },
    {
     "name": "stdout",
     "output_type": "stream",
     "text": [
      "The given number is divisble by 7.\n"
     ]
    }
   ],
   "source": [
    "num = int(input(\"Enter a number: \"))\n",
    "if num%7==0:\n",
    "    print(\"The given number is divisble by 7.\")\n",
    "else:\n",
    "    print(\"The given number is not divisble by 7\")"
   ]
  },
  {
   "cell_type": "markdown",
   "id": "22e6c57f-69ce-4800-8b8d-fa61ebbdda87",
   "metadata": {},
   "source": [
    "# Write a program to check whether number is multiple of 5"
   ]
  },
  {
   "cell_type": "code",
   "execution_count": 12,
   "id": "c3474d0d-9a57-4329-8d2a-14711a0429b3",
   "metadata": {},
   "outputs": [
    {
     "name": "stdin",
     "output_type": "stream",
     "text": [
      "Enter a num  10\n"
     ]
    },
    {
     "name": "stdout",
     "output_type": "stream",
     "text": [
      "Hello\n"
     ]
    }
   ],
   "source": [
    "num = int(input(\"Enter a num \"))\n",
    "if num%5==0:\n",
    "    print(\"Hello\")\n",
    "else:\n",
    "    print(\"Bye\")"
   ]
  },
  {
   "cell_type": "markdown",
   "id": "bc782b93-76e3-44c4-903b-8d4590d60c2e",
   "metadata": {},
   "source": []
  },
  {
   "cell_type": "code",
   "execution_count": null,
   "id": "a63260d1-82db-4d54-8a57-149a1a704231",
   "metadata": {},
   "outputs": [],
   "source": []
  },
  {
   "cell_type": "code",
   "execution_count": null,
   "id": "84150e97-de5d-4f8a-814f-bd4719380995",
   "metadata": {},
   "outputs": [],
   "source": []
  },
  {
   "cell_type": "code",
   "execution_count": null,
   "id": "2d26b275-612d-41d7-8f1e-e2986300cbb8",
   "metadata": {},
   "outputs": [],
   "source": []
  }
 ],
 "metadata": {
  "kernelspec": {
   "display_name": "Python [conda env:base] *",
   "language": "python",
   "name": "conda-base-py"
  },
  "language_info": {
   "codemirror_mode": {
    "name": "ipython",
    "version": 3
   },
   "file_extension": ".py",
   "mimetype": "text/x-python",
   "name": "python",
   "nbconvert_exporter": "python",
   "pygments_lexer": "ipython3",
   "version": "3.12.7"
  }
 },
 "nbformat": 4,
 "nbformat_minor": 5
}
